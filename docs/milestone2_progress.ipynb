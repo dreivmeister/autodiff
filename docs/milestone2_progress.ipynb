{
 "cells": [
  {
   "cell_type": "markdown",
   "id": "ba955721",
   "metadata": {},
   "source": [
    "# <img style=\"float: left; padding-right: 10px; width: 45px\" src=\"https://raw.githubusercontent.com/Harvard-IACS/2018-CS109A/master/content/styles/iacs.png\"> AC207 Systems Development for Computational Science\n",
    "\n",
    "\n",
    "## Milestone 2B : Progress Report\n",
    "\n",
    "\n",
    "**Harvard University**<br/>\n",
    "**Fall 2021**<br/>\n",
    "**Project Group #32**: Xuliang Guo.   Van Anh Le.  Hanwen Cui.  Kamran Ahmed.\n",
    "\n",
    "<hr style=\"height:2pt\">"
   ]
  },
  {
   "cell_type": "markdown",
   "id": "8113b1fa",
   "metadata": {},
   "source": [
    "## Task Assignments for Milestone2\n",
    "\n",
    "### Implementation and Testing\n",
    "\n",
    "Each member of the group is responsible for implementing a subset of functions in Dual.py, Operations.py and the unit tests corresponding to their assigned functions. In addition, miscellaneous tasks are assigned to each member to ensure milestone2 meet the requirements. \n",
    "\n",
    "| Member| Dual.py Functions| Operations.py Functions | Miscellaneous Tasks |\n",
    "| :-------------: |:-------------:| --------:|--------:|\n",
    "| Xuliang Guo |sub, rsub, truediv| exp| Write automatic testing script |\n",
    "| Van Anh Le |rtruediv, pow, rpow| logarithms| Propose future feature |\n",
    "| Hanwen Cui |neg, lt, gt| sqrt root | Generate requirements.txt |\n",
    "| Kamran Ahmed|le, ge, ne,eq|sin, cos, tan| Generate CodeCov Report |\n",
    "\n",
    "\n",
    "### Documentation Update\n",
    "\n",
    "The table below lists parts of our documentation that we need to update, though more may come up as we finish the implementation and testing.\n",
    "\n",
    "| Member| Documentation Update|\n",
    "| :-------------: |:-------------:|\n",
    "| Xuliang Guo | How to run tests |\n",
    "| Van Anh Le |How to install|\n",
    "| Hanwen Cui |Interactive demo|\n",
    "| Kamran Ahmed| Not yet implemented features|\n",
    "\n",
    "\n",
    "## Work done since Milestone1\n",
    "\n",
    "\n",
    "#### Xuliang Guo: \n",
    "- Participated in M2A meeting to discuss feedbacks\n",
    "- Made pull requests that reflect M2A changes and merged to main\n",
    "- Participated in M2B meeting to discuss task assignments\n",
    "\n",
    "\n",
    "#### Van Anh Le:\n",
    "- Participated in M2A meeting to discuss feedbacks\n",
    "- Generated computational graphs that were added to docs\n",
    "- Participated in M2B meeting to discuss task assignments\n",
    "\n",
    "\n",
    "#### Hanwen Cui:\n",
    "- Participated in M2A meeting to discuss feedbacks\n",
    "- Updated documentations in response to feedbacks \n",
    "- Participated in M2B meeting to discuss task assignments\n",
    "\n",
    "\n",
    "#### Kamran Ahmed:\n",
    "- Participated in M2A meeting to discuss feedbacks\n",
    "- Reviewed M2A pull requests \n",
    "- Participated in M2B meeting to discuss task assignments\n",
    "\n"
   ]
  }
 ],
 "metadata": {
  "kernelspec": {
   "display_name": "Python 3 (ipykernel)",
   "language": "python",
   "name": "python3"
  },
  "language_info": {
   "codemirror_mode": {
    "name": "ipython",
    "version": 3
   },
   "file_extension": ".py",
   "mimetype": "text/x-python",
   "name": "python",
   "nbconvert_exporter": "python",
   "pygments_lexer": "ipython3",
   "version": "3.7.3"
  }
 },
 "nbformat": 4,
 "nbformat_minor": 5
}
